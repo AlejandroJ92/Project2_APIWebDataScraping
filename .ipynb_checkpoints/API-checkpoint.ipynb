{
 "cells": [
  {
   "cell_type": "code",
   "execution_count": 1,
   "id": "5ee06386",
   "metadata": {},
   "outputs": [],
   "source": [
    "import requests \n",
    "import pandas as pd\n",
    "import os"
   ]
  },
  {
   "cell_type": "code",
   "execution_count": 2,
   "id": "5ec7af6b",
   "metadata": {},
   "outputs": [
    {
     "data": {
      "text/plain": [
       "200"
      ]
     },
     "execution_count": 2,
     "metadata": {},
     "output_type": "execute_result"
    }
   ],
   "source": [
    "res = requests.get('https://api.rockarch.org/agents')\n",
    "res.status_code"
   ]
  },
  {
   "cell_type": "code",
   "execution_count": 3,
   "id": "bd5d46be",
   "metadata": {},
   "outputs": [],
   "source": [
    "data = res.json()"
   ]
  },
  {
   "cell_type": "code",
   "execution_count": 4,
   "id": "60420ed4",
   "metadata": {},
   "outputs": [],
   "source": [
    "total_agents = []\n",
    "\n",
    "total_agents = total_agents + data['results']\n",
    "\n",
    "while data['next'] is not None:\n",
    "    res = requests.get(data['next'])\n",
    "    data = res.json()\n",
    "    total_agents = total_agents + data['results']"
   ]
  },
  {
   "cell_type": "code",
   "execution_count": 5,
   "id": "d803c39e",
   "metadata": {},
   "outputs": [
    {
     "data": {
      "text/html": [
       "<div>\n",
       "<style scoped>\n",
       "    .dataframe tbody tr th:only-of-type {\n",
       "        vertical-align: middle;\n",
       "    }\n",
       "\n",
       "    .dataframe tbody tr th {\n",
       "        vertical-align: top;\n",
       "    }\n",
       "\n",
       "    .dataframe thead th {\n",
       "        text-align: right;\n",
       "    }\n",
       "</style>\n",
       "<table border=\"1\" class=\"dataframe\">\n",
       "  <thead>\n",
       "    <tr style=\"text-align: right;\">\n",
       "      <th></th>\n",
       "      <th>uri</th>\n",
       "      <th>type</th>\n",
       "      <th>title</th>\n",
       "      <th>dates</th>\n",
       "    </tr>\n",
       "  </thead>\n",
       "  <tbody>\n",
       "    <tr>\n",
       "      <th>0</th>\n",
       "      <td>/agents/VKssjyZHv83gAdHRv5sZKu</td>\n",
       "      <td>agent</td>\n",
       "      <td>Knowles, John H.</td>\n",
       "      <td>None</td>\n",
       "    </tr>\n",
       "    <tr>\n",
       "      <th>1</th>\n",
       "      <td>/agents/8CHhmo4U2x7WF7mkcBTFJs</td>\n",
       "      <td>agent</td>\n",
       "      <td>Rockefeller Family Fund</td>\n",
       "      <td>None</td>\n",
       "    </tr>\n",
       "    <tr>\n",
       "      <th>2</th>\n",
       "      <td>/agents/iYZY44KQw6GEWMaApLVv4i</td>\n",
       "      <td>agent</td>\n",
       "      <td>Simpson</td>\n",
       "      <td>None</td>\n",
       "    </tr>\n",
       "    <tr>\n",
       "      <th>3</th>\n",
       "      <td>/agents/GbJueUwc2otV9gw9UbDBXq</td>\n",
       "      <td>agent</td>\n",
       "      <td>Avery family</td>\n",
       "      <td>None</td>\n",
       "    </tr>\n",
       "    <tr>\n",
       "      <th>4</th>\n",
       "      <td>/agents/SRNoJNc26W7X6LbRkTYDAY</td>\n",
       "      <td>agent</td>\n",
       "      <td>American Philosophical Society</td>\n",
       "      <td>None</td>\n",
       "    </tr>\n",
       "    <tr>\n",
       "      <th>...</th>\n",
       "      <td>...</td>\n",
       "      <td>...</td>\n",
       "      <td>...</td>\n",
       "      <td>...</td>\n",
       "    </tr>\n",
       "    <tr>\n",
       "      <th>1360</th>\n",
       "      <td>/agents/FWg3aQC6pkLfjceu66Di3L</td>\n",
       "      <td>agent</td>\n",
       "      <td>Peter Johnson</td>\n",
       "      <td>None</td>\n",
       "    </tr>\n",
       "    <tr>\n",
       "      <th>1361</th>\n",
       "      <td>/agents/ksydQVbCWzQBGGWYg42fZN</td>\n",
       "      <td>agent</td>\n",
       "      <td>Darwin H. Stapleton</td>\n",
       "      <td>None</td>\n",
       "    </tr>\n",
       "    <tr>\n",
       "      <th>1362</th>\n",
       "      <td>/agents/3orEh8oVF4aig7GH93ub35</td>\n",
       "      <td>agent</td>\n",
       "      <td>Medical Letter, Inc</td>\n",
       "      <td>None</td>\n",
       "    </tr>\n",
       "    <tr>\n",
       "      <th>1363</th>\n",
       "      <td>/agents/GniGoivbTHosJ74sLGLEWL</td>\n",
       "      <td>agent</td>\n",
       "      <td>Rockefeller University</td>\n",
       "      <td>None</td>\n",
       "    </tr>\n",
       "    <tr>\n",
       "      <th>1364</th>\n",
       "      <td>/agents/LNvEcWwmXaiFs3V6jxrQ4R</td>\n",
       "      <td>agent</td>\n",
       "      <td>Social Science Research Council</td>\n",
       "      <td>None</td>\n",
       "    </tr>\n",
       "  </tbody>\n",
       "</table>\n",
       "<p>1365 rows × 4 columns</p>\n",
       "</div>"
      ],
      "text/plain": [
       "                                 uri   type                            title  \\\n",
       "0     /agents/VKssjyZHv83gAdHRv5sZKu  agent                 Knowles, John H.   \n",
       "1     /agents/8CHhmo4U2x7WF7mkcBTFJs  agent          Rockefeller Family Fund   \n",
       "2     /agents/iYZY44KQw6GEWMaApLVv4i  agent                          Simpson   \n",
       "3     /agents/GbJueUwc2otV9gw9UbDBXq  agent                     Avery family   \n",
       "4     /agents/SRNoJNc26W7X6LbRkTYDAY  agent   American Philosophical Society   \n",
       "...                              ...    ...                              ...   \n",
       "1360  /agents/FWg3aQC6pkLfjceu66Di3L  agent                    Peter Johnson   \n",
       "1361  /agents/ksydQVbCWzQBGGWYg42fZN  agent              Darwin H. Stapleton   \n",
       "1362  /agents/3orEh8oVF4aig7GH93ub35  agent              Medical Letter, Inc   \n",
       "1363  /agents/GniGoivbTHosJ74sLGLEWL  agent           Rockefeller University   \n",
       "1364  /agents/LNvEcWwmXaiFs3V6jxrQ4R  agent  Social Science Research Council   \n",
       "\n",
       "     dates  \n",
       "0     None  \n",
       "1     None  \n",
       "2     None  \n",
       "3     None  \n",
       "4     None  \n",
       "...    ...  \n",
       "1360  None  \n",
       "1361  None  \n",
       "1362  None  \n",
       "1363  None  \n",
       "1364  None  \n",
       "\n",
       "[1365 rows x 4 columns]"
      ]
     },
     "execution_count": 5,
     "metadata": {},
     "output_type": "execute_result"
    }
   ],
   "source": [
    "df = pd.DataFrame(total_agents)\n",
    "df"
   ]
  },
  {
   "cell_type": "code",
   "execution_count": 6,
   "id": "2b5b6a90",
   "metadata": {},
   "outputs": [],
   "source": [
    "os.makedirs('Output', exist_ok=True)  \n",
    "df.to_csv('Output/API_Output.csv') "
   ]
  }
 ],
 "metadata": {
  "kernelspec": {
   "display_name": "Python 3 (ipykernel)",
   "language": "python",
   "name": "python3"
  },
  "language_info": {
   "codemirror_mode": {
    "name": "ipython",
    "version": 3
   },
   "file_extension": ".py",
   "mimetype": "text/x-python",
   "name": "python",
   "nbconvert_exporter": "python",
   "pygments_lexer": "ipython3",
   "version": "3.10.3"
  }
 },
 "nbformat": 4,
 "nbformat_minor": 5
}
