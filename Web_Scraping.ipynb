{
 "cells": [
  {
   "cell_type": "code",
   "execution_count": 1,
   "id": "10ad5194",
   "metadata": {},
   "outputs": [],
   "source": [
    "import warnings\n",
    "warnings.simplefilter('ignore')"
   ]
  },
  {
   "cell_type": "code",
   "execution_count": 2,
   "id": "79d381da",
   "metadata": {},
   "outputs": [],
   "source": [
    "# import time\n",
    "# import re\n",
    "# import sys\n",
    "import requests\n",
    "# from pathlib import Path\n",
    "\n",
    "# import numpy as np\n",
    "import pandas as pd\n",
    "\n",
    "from bs4 import BeautifulSoup\n",
    "\n",
    "# from selenium import webdriver\n",
    "# from selenium.webdriver.common.keys import Keys\n",
    "# from selenium.webdriver.common.action_chains import ActionChains"
   ]
  },
  {
   "cell_type": "code",
   "execution_count": 3,
   "id": "1389162c",
   "metadata": {},
   "outputs": [],
   "source": [
    "url = 'https://sports.caliente.mx/es_MX/Futbol'"
   ]
  },
  {
   "cell_type": "code",
   "execution_count": 4,
   "id": "41d6e25f",
   "metadata": {},
   "outputs": [],
   "source": [
    "caliente = requests.get(url).content"
   ]
  },
  {
   "cell_type": "code",
   "execution_count": 5,
   "id": "9f72da4c",
   "metadata": {},
   "outputs": [],
   "source": [
    "socc_ods = BeautifulSoup(caliente, 'lxml')"
   ]
  },
  {
   "cell_type": "code",
   "execution_count": 6,
   "id": "975a3bbd",
   "metadata": {},
   "outputs": [],
   "source": [
    "tables = pd.read_html(requests.get(url).content)"
   ]
  },
  {
   "cell_type": "code",
   "execution_count": 7,
   "id": "8461c982",
   "metadata": {},
   "outputs": [],
   "source": [
    "total_odds = tables[1][[1,3,4,5]]\n",
    "\n",
    "for i in range(2,len(tables)):\n",
    "    if len(tables[i].columns) == 8:\n",
    "        table_temp = tables[i][[1,3,4,5]]\n",
    "        total_odds = pd.concat([total_odds, table_temp], ignore_index=True)\n",
    "    elif len(tables[i].columns) == 9:\n",
    "        table_temp = tables[i][[1,4,5,6]]\n",
    "        table_temp.columns = [1, 3, 4, 5]\n",
    "        total_odds = pd.concat([total_odds, table_temp], ignore_index=True)\n",
    "    else:\n",
    "        print('Revisar si las dimensiones de las tablas han cambiado.')"
   ]
  },
  {
   "cell_type": "code",
   "execution_count": 9,
   "id": "f030655a",
   "metadata": {},
   "outputs": [],
   "source": [
    "total_odds.to_csv('Output/WebScrap_Output.csv')"
   ]
  }
 ],
 "metadata": {
  "kernelspec": {
   "display_name": "Python 3 (ipykernel)",
   "language": "python",
   "name": "python3"
  },
  "language_info": {
   "codemirror_mode": {
    "name": "ipython",
    "version": 3
   },
   "file_extension": ".py",
   "mimetype": "text/x-python",
   "name": "python",
   "nbconvert_exporter": "python",
   "pygments_lexer": "ipython3",
   "version": "3.10.3"
  }
 },
 "nbformat": 4,
 "nbformat_minor": 5
}
